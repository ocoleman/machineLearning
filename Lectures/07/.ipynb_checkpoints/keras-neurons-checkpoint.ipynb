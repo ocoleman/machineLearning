{
 "cells": [
  {
   "cell_type": "markdown",
   "metadata": {},
   "source": [
    "# Neurons in keras"
   ]
  },
  {
   "cell_type": "markdown",
   "metadata": {},
   "source": [
    "<br>\n",
    "\n",
    "![Keras](https://github.com/ianmcloughlin/images/raw/master/keras.png)\n",
    "\n",
    "<br>"
   ]
  },
  {
   "cell_type": "markdown",
   "metadata": {},
   "source": [
    "<br>\n",
    "\n",
    "#### Imports\n",
    "\n",
    "***"
   ]
  },
  {
   "cell_type": "code",
   "execution_count": 1,
   "metadata": {},
   "outputs": [],
   "source": [
    "# Neural networks.\n",
    "import tensorflow.keras as kr\n",
    "\n",
    "# Numerical arrays\n",
    "import numpy as np\n",
    "\n",
    "# Data frames.\n",
    "import pandas as pd\n",
    "\n",
    "# Plotting\n",
    "import matplotlib.pyplot as plt"
   ]
  },
  {
   "cell_type": "code",
   "execution_count": 2,
   "metadata": {},
   "outputs": [],
   "source": [
    "# Plot style.\n",
    "plt.style.use(\"ggplot\")\n",
    "\n",
    "# Plot size.\n",
    "plt.rcParams['figure.figsize'] = [14, 8]"
   ]
  },
  {
   "cell_type": "markdown",
   "metadata": {},
   "source": [
    "<br>\n",
    "\n",
    "#### Single linear neuron\n",
    "\n",
    "\n",
    "***"
   ]
  },
  {
   "cell_type": "markdown",
   "metadata": {},
   "source": [
    "<img src=\"https://github.com/ianmcloughlin/images/raw/master/single-linear-neuron.png\" alt=\"Single linear neuron\" width=\"600px\">\n",
    "\n",
    "\n",
    "***\n",
    "\n",
    "$$ y = x $$\n",
    "\n",
    "<br>"
   ]
  },
  {
   "cell_type": "code",
   "execution_count": null,
   "metadata": {
    "scrolled": true
   },
   "outputs": [],
   "source": [
    "# Create a new neural network.\n",
    "m = kr.models.Sequential()\n",
    "\n",
    "# Add a single neuron in a single layer, initialised with weight 1 and bias 0.\n",
    "m.add(kr.layers.Dense(1, input_dim=1, activation=\"linear\", kernel_initializer='ones', bias_initializer='zeros'))\n",
    "\n",
    "# Compile the model.\n",
    "m.compile(loss=\"mean_squared_error\", optimizer=\"sgd\")"
   ]
  },
  {
   "cell_type": "code",
   "execution_count": null,
   "metadata": {},
   "outputs": [],
   "source": [
    "# Create some input values.\n",
    "x = np.arange(-10.0, 10.1, 1.0)\n",
    "\n",
    "# Run each x value through the neural network.\n",
    "y = m.predict(x)"
   ]
  },
  {
   "cell_type": "code",
   "execution_count": null,
   "metadata": {},
   "outputs": [],
   "source": [
    "# Have a look at x.\n",
    "x"
   ]
  },
  {
   "cell_type": "code",
   "execution_count": null,
   "metadata": {},
   "outputs": [],
   "source": [
    "# Here are the corresponding outputs.\n",
    "y"
   ]
  },
  {
   "cell_type": "code",
   "execution_count": null,
   "metadata": {},
   "outputs": [],
   "source": [
    "# Plot the values.\n",
    "plt.plot(x, y, 'k.');"
   ]
  },
  {
   "cell_type": "markdown",
   "metadata": {},
   "source": [
    "<br>\n",
    "\n",
    "#### Single linear neuron with different weight and bias\n",
    "\n",
    "***\n",
    "\n",
    "<br>\n",
    "\n",
    "$$ y = 2x + 1 $$\n",
    "\n",
    "<br>"
   ]
  },
  {
   "cell_type": "code",
   "execution_count": null,
   "metadata": {},
   "outputs": [],
   "source": [
    "# Create a new neural network.\n",
    "m = kr.models.Sequential()\n",
    "\n",
    "# Add a single neuron in a single layer, initialised with weight 2 and bias 1.\n",
    "m.add(kr.layers.Dense(1, input_dim=1, activation=\"linear\", kernel_initializer=kr.initializers.Constant(value=2.0), bias_initializer=kr.initializers.Constant(value=1.0)))\n",
    "\n",
    "# Compile the model.\n",
    "m.compile(loss=\"mean_squared_error\", optimizer=\"sgd\")"
   ]
  },
  {
   "cell_type": "code",
   "execution_count": null,
   "metadata": {},
   "outputs": [],
   "source": [
    "# Create some input values.\n",
    "x = np.arange(-10.0, 10.1, 1.0)\n",
    "\n",
    "# Run each x value through the neural network.\n",
    "y = m.predict(x)"
   ]
  },
  {
   "cell_type": "code",
   "execution_count": null,
   "metadata": {},
   "outputs": [],
   "source": [
    "# Plot the values.\n",
    "plt.plot(x, y, 'k.');"
   ]
  },
  {
   "cell_type": "markdown",
   "metadata": {},
   "source": [
    "<br>\n",
    "\n",
    "#### Two neurons\n",
    "\n",
    "***\n",
    "\n",
    "<img src=\"https://github.com/ianmcloughlin/images/raw/master/two-layers-three-neurons.png\" alt=\"Two linear neurons\" width=\"800px\">\n",
    "\n",
    "<br>"
   ]
  },
  {
   "cell_type": "code",
   "execution_count": null,
   "metadata": {},
   "outputs": [],
   "source": [
    "# Create a new neural network.\n",
    "m = kr.models.Sequential()\n",
    "\n",
    "# Add a two neurons in a single layer.\n",
    "m.add(kr.layers.Dense(2, input_dim=1, activation=\"linear\"))\n",
    "\n",
    "# Add a single neuron in a single layer, initialised with weight 1 and bias 0.\n",
    "m.add(kr.layers.Dense(1, activation=\"linear\", kernel_initializer=kr.initializers.Constant(value=1), bias_initializer=kr.initializers.Constant(value=0)))\n",
    "\n",
    "# Set the weight/bias of the two neurons.\n",
    "m.layers[0].set_weights([np.matrix([2.0, 3.0]), np.array([-5.0, -3.0])])\n",
    "\n",
    "# Compile the model.\n",
    "m.compile(loss=\"mean_squared_error\", optimizer=\"sgd\")"
   ]
  },
  {
   "cell_type": "code",
   "execution_count": null,
   "metadata": {},
   "outputs": [],
   "source": [
    "# Create some input values.\n",
    "x = np.arange(-10.0, 10.1, 1.0)\n",
    "\n",
    "# Run each x value through the neural network.\n",
    "y = m.predict(x)"
   ]
  },
  {
   "cell_type": "code",
   "execution_count": null,
   "metadata": {},
   "outputs": [],
   "source": [
    "# Look at the outputs.\n",
    "y"
   ]
  },
  {
   "cell_type": "code",
   "execution_count": null,
   "metadata": {},
   "outputs": [],
   "source": [
    "# Plot the values.\n",
    "plt.plot(x, y, 'k.');"
   ]
  },
  {
   "cell_type": "code",
   "execution_count": null,
   "metadata": {},
   "outputs": [],
   "source": [
    "# Calculating the output using numpy arrays.\n",
    "neuron1 =  2.0 * x - 5.0\n",
    "neuron2 =  3.0 * x - 3.0\n",
    "neuron3 = neuron1 + neuron2\n",
    "neuron3"
   ]
  },
  {
   "cell_type": "markdown",
   "metadata": {},
   "source": [
    "\n",
    "<br>\n",
    "\n",
    "#### Sigmoid activation\n",
    "\n",
    "***\n",
    "\n",
    "\n",
    "<img src=\"https://github.com/ianmcloughlin/images/raw/master/single-neuron.png\" alt=\"Single neuron\" width=\"600px\">\n",
    "\n",
    "***\n",
    "\n",
    "$$ f(x) \\  = \\ S(x)\\  = \\  \\frac{1}{1 + e^{-x}} \\  =  \\  \\frac{e^x}{e^x + 1} $$\n",
    "\n",
    "<br>"
   ]
  },
  {
   "cell_type": "code",
   "execution_count": null,
   "metadata": {},
   "outputs": [],
   "source": [
    "# Create a new neural network.\n",
    "m = kr.models.Sequential()\n",
    "\n",
    "# Add a single neuron in a single layer, initialised with weight 1 and bias 0, with sigmoid activation.\n",
    "m.add(kr.layers.Dense(1, input_dim=1, activation=\"sigmoid\", kernel_initializer=kr.initializers.Constant(value=1.0), bias_initializer=kr.initializers.Constant(value=0.0)))\n",
    "\n",
    "# Compile the model.\n",
    "m.compile(loss=\"mean_squared_error\", optimizer=\"sgd\")"
   ]
  },
  {
   "cell_type": "code",
   "execution_count": null,
   "metadata": {},
   "outputs": [],
   "source": [
    "# Create some input values.\n",
    "x = np.arange(-10.0, 10.1, 1.0)\n",
    "\n",
    "# Run each x value through the neural network.\n",
    "y = m.predict(x)"
   ]
  },
  {
   "cell_type": "code",
   "execution_count": null,
   "metadata": {},
   "outputs": [],
   "source": [
    "# Plot the values.\n",
    "plt.plot(x, y, 'k.');"
   ]
  },
  {
   "cell_type": "markdown",
   "metadata": {},
   "source": [
    "<br>\n",
    "\n",
    "#### Sequential Dense layers\n",
    "\n",
    "\n",
    "***\n",
    "\n",
    "![Dense neural network](https://github.com/ianmcloughlin/images/raw/master/dense-sequential.png)\n"
   ]
  },
  {
   "cell_type": "markdown",
   "metadata": {},
   "source": [
    "***\n",
    "\n",
    "#### End"
   ]
  }
 ],
 "metadata": {
  "kernelspec": {
   "display_name": "Python 3",
   "language": "python",
   "name": "python3"
  },
  "language_info": {
   "codemirror_mode": {
    "name": "ipython",
    "version": 3
   },
   "file_extension": ".py",
   "mimetype": "text/x-python",
   "name": "python",
   "nbconvert_exporter": "python",
   "pygments_lexer": "ipython3",
   "version": "3.8.5"
  }
 },
 "nbformat": 4,
 "nbformat_minor": 4
}

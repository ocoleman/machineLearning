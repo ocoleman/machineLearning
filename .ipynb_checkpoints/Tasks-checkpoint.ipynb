{
 "cells": [
  {
   "cell_type": "markdown",
   "metadata": {},
   "source": [
    "# Tasks\n",
    "#### These are my solutions to the Tasks assessment. The author is Owen Coleman (G00387850@gmit.ie).\n",
    "***"
   ]
  },
  {
   "cell_type": "markdown",
   "metadata": {},
   "source": [
    "#### Task 1 - A python function that calculates and prints the square root of 2 to 100 decimal places. \n",
    "\n",
    "The method shown below is similar to Newtons Method[1], however it has been adapted for calculating the integer square root of long numbers[2]. This was done to avoid the limitations of Pythons double precision of 53 bits (16 digits) which would make displaying to 100 decimal places impossible[3]. The answer outputted is accurate relative to NASA's *The Square Root of Two to 1 Million Digits*[4].\n",
    "\n",
    "\n",
    "\n",
    "\n",
    "[1]Newton's method; https://en.wikipedia.org/wiki/Newton%27s_method\n",
    "\n",
    "[2]Hackernoon; Calculating the Square Root of a Number using the Newton-Raphson Method; https://hackernoon.com/calculating-the-square-root-of-a-number-using-the-newton-raphson-method-a-how-to-guide-yr4e32zo\n",
    "\n",
    "[3]Python3 Documentation; Floating Point Arithmetic: Issues and Limitations; https://docs.python.org/3/tutorial/floatingpoint.html\n",
    "\n",
    "[4]The Square Root of Two to 1 Million Digits; Robert Nemiroff, Jerry Bonnell; https://apod.nasa.gov/htmltest/gifcity/sqrt2.1mil\n",
    "\n",
    "***\n",
    "\n",
    "***Note:*** *Jupyter automatically outputted the result of the function when it was called, so I saw no need to include a print statement anywhere within the code.*"
   ]
  },
  {
   "cell_type": "code",
   "execution_count": 9,
   "metadata": {},
   "outputs": [],
   "source": [
    "def sqrt2():\n",
    "    x = 2*(10**200) #x is assigned the integer equivalent of 2.0 with 100 zeros after the decimal place 200000...000 (100)\n",
    "    y = (x + 1) // 2 # 2 #precision number\n",
    "    while y < x: # algorithm terminates when the y is less than x\n",
    "        x = y\n",
    "        y = (x + 2*(10**200) // x) // 2 #flooring for integer square root\n",
    "    answer = str(x) #formatting as a string\n",
    "    result = answer[:1]+'.'+answer[1:-1]+answer[-1:] #inserting decimal\n",
    "    return result"
   ]
  },
  {
   "cell_type": "markdown",
   "metadata": {},
   "source": [
    "##### Tests"
   ]
  },
  {
   "cell_type": "code",
   "execution_count": 10,
   "metadata": {},
   "outputs": [
    {
     "data": {
      "text/plain": [
       "'1.4142135623730950488016887242096980785696718753769480731766797379907324784621070388503875343276415727'"
      ]
     },
     "execution_count": 10,
     "metadata": {},
     "output_type": "execute_result"
    }
   ],
   "source": [
    "sqrt2()"
   ]
  },
  {
   "cell_type": "markdown",
   "metadata": {},
   "source": [
    "***"
   ]
  },
  {
   "cell_type": "markdown",
   "metadata": {},
   "source": [
    "#### Task 2 - The Chi-squared test for independence."
   ]
  },
  {
   "cell_type": "code",
   "execution_count": 26,
   "metadata": {},
   "outputs": [
    {
     "name": "stdout",
     "output_type": "stream",
     "text": [
      "(24.5712028585826, 0.0004098425861096696, 6, array([[ 80.53846154,  80.53846154, 107.38461538,  80.53846154],\n",
      "       [ 34.84615385,  34.84615385,  46.46153846,  34.84615385],\n",
      "       [ 34.61538462,  34.61538462,  46.15384615,  34.61538462]]))\n"
     ]
    }
   ],
   "source": [
    "from scipy.stats import chi2_contingency\n",
    "import pandas as pd\n",
    "import numpy as np\n",
    "\n",
    "collars = pd.DataFrame(\n",
    "    [\n",
    "        [90,60,104,95],\n",
    "        [30,50,51,20],\n",
    "        [30,40,45,35]\n",
    "    ],\n",
    "    index=[\"White Collar\",\"Blue Collar\",\"No Collar\"],\n",
    "    columns=[\"A\",\"B\",\"C\",\"D\"])\n",
    "\n",
    "print(chi2_contingency(collars))\n",
    "chisquare=chi2_contingency(collars)[0]\n",
    "pvalue=chi2_contingency(collars)[1]"
   ]
  },
  {
   "cell_type": "code",
   "execution_count": null,
   "metadata": {},
   "outputs": [],
   "source": []
  },
  {
   "cell_type": "code",
   "execution_count": null,
   "metadata": {},
   "outputs": [],
   "source": []
  }
 ],
 "metadata": {
  "kernelspec": {
   "display_name": "Python 3",
   "language": "python",
   "name": "python3"
  },
  "language_info": {
   "codemirror_mode": {
    "name": "ipython",
    "version": 3
   },
   "file_extension": ".py",
   "mimetype": "text/x-python",
   "name": "python",
   "nbconvert_exporter": "python",
   "pygments_lexer": "ipython3",
   "version": "3.8.3"
  }
 },
 "nbformat": 4,
 "nbformat_minor": 4
}

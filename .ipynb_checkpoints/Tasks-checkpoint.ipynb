{
 "cells": [
  {
   "cell_type": "markdown",
   "metadata": {},
   "source": [
    "# Tasks\n",
    "#### These are my solutions to the Tasks assessment. The author is Owen Coleman (G00387850@gmit.ie).\n",
    "***"
   ]
  },
  {
   "cell_type": "markdown",
   "metadata": {},
   "source": [
    "#### Task 1 - A python function that calculates and prints the square root of 2 to 100 decimal places. \n",
    "\n",
    "The method shown below is similar to Newtons Method[1], however it has been adapted for calculating the integer square root of long numbers[2]. This was done to avoid the limitations of Pythons double precision of 53 bits (16 digits) which would make displaying to 100 decimal places impossible[3]. The answer outputted is accurate relative to NASA's *The Square Root of Two to 1 Million Digits*[4].\n",
    "\n",
    "\n",
    "\n",
    "\n",
    "[1]Newton's method; https://en.wikipedia.org/wiki/Newton%27s_method\n",
    "\n",
    "[2]Hackernoon; Calculating the Square Root of a Number using the Newton-Raphson Method; https://hackernoon.com/calculating-the-square-root-of-a-number-using-the-newton-raphson-method-a-how-to-guide-yr4e32zo\n",
    "\n",
    "[3]Python3 Documentation; Floating Point Arithmetic: Issues and Limitations; https://docs.python.org/3/tutorial/floatingpoint.html\n",
    "\n",
    "[4]The Square Root of Two to 1 Million Digits; Robert Nemiroff, Jerry Bonnell; https://apod.nasa.gov/htmltest/gifcity/sqrt2.1mil\n",
    "\n",
    "***\n",
    "\n",
    "***Note:*** *Jupyter automatically outputted the result of the function when it was called, so I saw no need to include a print statement anywhere within the code.*"
   ]
  },
  {
   "cell_type": "code",
   "execution_count": 1,
   "metadata": {},
   "outputs": [],
   "source": [
    "def sqrt2():\n",
    "    x = 2*(10**200) #x is assigned the integer equivalent of 2.0 with 100 zeros after the decimal place 200000...000 (100)\n",
    "    y = (x + 1) // 2 # 2 #precision number\n",
    "    while y < x: # algorithm terminates when the y is less than x\n",
    "        x = y\n",
    "        y = (x + 2*(10**200) // x) // 2 #flooring for integer square root\n",
    "    answer = str(x) #formatting as a string\n",
    "    result = answer[:1]+'.'+answer[1:-1]+answer[-1:] #inserting decimal\n",
    "    return result"
   ]
  },
  {
   "cell_type": "markdown",
   "metadata": {},
   "source": [
    "##### Tests"
   ]
  },
  {
   "cell_type": "code",
   "execution_count": 2,
   "metadata": {},
   "outputs": [
    {
     "data": {
      "text/plain": [
       "'1.4142135623730950488016887242096980785696718753769480731766797379907324784621070388503875343276415727'"
      ]
     },
     "execution_count": 2,
     "metadata": {},
     "output_type": "execute_result"
    }
   ],
   "source": [
    "sqrt2()"
   ]
  },
  {
   "cell_type": "markdown",
   "metadata": {},
   "source": [
    "***"
   ]
  },
  {
   "cell_type": "markdown",
   "metadata": {},
   "source": [
    "#### Task 2 - The Chi-squared test for independence.\n",
    "\n",
    "The Chi-square test for independence is a statistical test that is used when we have two sets of categorical data from a specific population.[1],[2] The test determines wether the data from the two categories are independent of each other or not. When performing this test, we can expect one of two hypotheses to be correct. Either the Null Hypothesis is correct in which the variables are said to be independent of each other, or the Alternative Hypothesis, in which a relationship is said to exist between the two categories.[3]\n",
    "\n",
    "[1] Chi-squared test, https://en.wikipedia.org/wiki/Chi-squared_test\n",
    "\n",
    "[2] towards data science, Gentle Introduction to Chi-Square Test for Independence, Shinichi Okada, https://towardsdatascience.com/gentle-introduction-to-chi-square-test-for-independence-7182a7414a95#bebc\n",
    "\n",
    "[3] Statistics By Jim, How the Chi-Squared Test of Independence Works, Jim Frost, https://statisticsbyjim.com/hypothesis-testing/chi-squared-independence/"
   ]
  },
  {
   "cell_type": "code",
   "execution_count": 3,
   "metadata": {},
   "outputs": [
    {
     "name": "stdout",
     "output_type": "stream",
     "text": [
      "chi = 24.5712028585826\n",
      "p-value = 0.0004098425861096696\n"
     ]
    }
   ],
   "source": [
    "from scipy.stats import chi2_contingency\n",
    "import pandas as pd\n",
    "import numpy as np\n",
    "\n",
    "#pandas dataframe, idea adapted from [2].\n",
    "collars = pd.DataFrame(\n",
    "    [\n",
    "        [90,60,104,95],\n",
    "        [30,50,51,20],\n",
    "        [30,40,45,35]\n",
    "    ],\n",
    "    index=[\"White Collar\",\"Blue Collar\",\"No Collar\"],\n",
    "    columns=[\"A\",\"B\",\"C\",\"D\"])\n",
    "\n",
    "chi2_contingency(collars)\n",
    "chisquare=chi2_contingency(collars)[0]\n",
    "pvalue=chi2_contingency(collars)[1]\n",
    "\n",
    "print(\"chi =\",chisquare)\n",
    "print(\"p-value =\",pvalue)"
   ]
  },
  {
   "cell_type": "markdown",
   "metadata": {},
   "source": [
    "##### Analysis"
   ]
  },
  {
   "cell_type": "markdown",
   "metadata": {},
   "source": [
    "Using the chi2_contingency from the scipy.stats library, we computed a chi2 statistic of 24.57, which, when rounded gives us the targeted approximation of 24.6. This number is a significant divergence from the null hypothesis, in which we would expect a chi-squared value closer to 0.[4] We also received a P value of 0.000409. At a level of signifcance of 0.05 we can safely reject the null hypothesis and assume the above catagorical data is not independent. We can verify the chi2 results manually using the method below.\n",
    "\n",
    "Getting expected values manually as in example shown below.[5]\n",
    "\n",
    "\n",
    "\\begin{equation}\n",
    "{\\displaystyle 150\\times {\\frac {349}{650}}\\approx 80.54} \\\\\n",
    "\\end{equation}\n",
    "<div align=\"center\"><i>(column total / grand total) x (row total)<i></div>\n",
    "<br> \n",
    "The formula for calculation Chi-square is as follows:\n",
    "    \n",
    "\\begin{equation}\n",
    "\\chi^2=\\frac{(observed-expected)^2}{expected} \\\\\n",
    "\\end{equation}\n",
    "    \n",
    "    \n",
    "[4]Statistics By Jim, How the Chi-Squared Test of Independence Works, Jim Frost, https://statisticsbyjim.com/hypothesis-testing/chi-squared-independence/\n",
    "    \n",
    "[5]Example chi-squared test for categorical data, https://en.wikipedia.org/wiki/Chi-squared_test#Example_chi-squared_test_for_categorical_data"
   ]
  },
  {
   "cell_type": "code",
   "execution_count": 4,
   "metadata": {
    "scrolled": true
   },
   "outputs": [
    {
     "name": "stdout",
     "output_type": "stream",
     "text": [
      "Manual chi value = 24.56974549145303\n"
     ]
    }
   ],
   "source": [
    "#Manual calcuation of chi-square.\n",
    "ans =(((90 - 80.54)**2) / 80.54) + (((60 - 80.54)**2) / 80.54) + (((104 - 107.38)**2) / 107.38)  + (((95 - 80.54)**2) / 80.54)  + (((30 - 34.85)**2) / 34.85) + (((50 - 34.85)**2) / 34.85) + (((51 - 46.46)**2) / 46.46)  + (((20 - 34.85)**2) / 34.85)  + (((30 - 34.62)**2) / 34.62) + (((40 - 34.62)**2) / 34.62)  + (((45 - 46.15)**2) / 46.15)  + (((35 - 34.62)**2) / 34.62)\n",
    "print(\"Manual chi value =\", ans)"
   ]
  },
  {
   "cell_type": "markdown",
   "metadata": {},
   "source": [
    "***"
   ]
  },
  {
   "cell_type": "markdown",
   "metadata": {},
   "source": [
    "#### Task 3 - Standard Deviation: STDEV.P vs STDEV.S\n",
    "<br>\n",
    "The main difference between the two excel functions is that STDEV.P assumes the data it is passed represents an entire population, whereas the STDEV.S function expects to be given a sample of a population.[1] Unless you have a whole population as your data, using STDEV.S will generally provide a more accurate estimate of the standard deviation. This is because the mean of a sample is often not representative of the mean of an entire population. STDEV.S addresses this bias through employment of Bessel's correction (the len(x)-1 observed in the numpy calculation below).[2] In practice, this adjustment slightly enlarges the value we get for STDEV.S which it turns out is actually a fairly accurate estimate for the standard deviation of a total population.\n",
    "<br><br>\n",
    "The below code segment demonstrates the better accuracy of the STDEV.S function over STDEV.P. The data simulated is based on the real average height of US males and the accompanying standard deviation.[3] *x* is assigned an array of 100 height values in a normal distribution centered at 178cm (1.78), with a standard distribution of 8cm (0.08). A STDEV.P and STDEV.S estimation of the standard deviation are then gotten as *p* and *s* respectively. This process is then repeated 1000 times, at each iteration *p* and *s* are compared with the one closer to the actual standard deviation receiving a point. The final output shows that the STDEV.S calculation consistently scores higher in estimating the standard deviation over the 1000 iterations.\n",
    "\n",
    "[1]Excel Tip, How To Use Excel STDEV.P Function, https://www.exceltip.com/statistical-formulas/how-to-use-excel-stdev-p-function.html\n",
    "\n",
    "[2]Statistics How To, Bessel’s Correction: Why Use N-1 For Variance/Standard Deviation?, https://www.statisticshowto.com/bessels-correction/\n",
    "\n",
    "[3]danielmiessler.com, Standard Deviations Explained, Daniel Miessler https://danielmiessler.com/blog/standard-deviations-explained/"
   ]
  },
  {
   "cell_type": "code",
   "execution_count": 5,
   "metadata": {
    "scrolled": true
   },
   "outputs": [
    {
     "name": "stdout",
     "output_type": "stream",
     "text": [
      "STDEV.P score: 461  STDEV.S score: 539\n"
     ]
    }
   ],
   "source": [
    "import numpy as np\n",
    "import matplotlib.pyplot as plt\n",
    "import seaborn as sns\n",
    "\n",
    "#the real stdev of 8cm.\n",
    "realstdev = 0.08\n",
    "# \"score\" value variables.\n",
    "p_score = 0\n",
    "s_score = 0\n",
    "\n",
    "#generates 100 height values as x,values for STDEV.P and STDEV.S. Does this 1000 times.\n",
    "for i in range(1000):\n",
    "    x = np.random.normal(1.78,realstdev,100) #height data simulation.\n",
    "    p = np.sqrt(np.sum((x - np.mean(x))**2)/len(x)) #STDEV.P calculation.\n",
    "    s = np.sqrt(np.sum((x - np.mean(x))**2)/(len(x)-1)) # STDEV.S calculation.\n",
    "    \n",
    "    #values from both calculation methods are compared, with the one closest to the real value being awarded a point.\n",
    "    if abs((realstdev - p)) > abs((realstdev - s)):\n",
    "        s_score += 1\n",
    "    else:\n",
    "        p_score += 1\n",
    "\n",
    "print(\"STDEV.P score:\", p_score, \" STDEV.S score:\", s_score)\n"
   ]
  },
  {
   "cell_type": "markdown",
   "metadata": {},
   "source": [
    "***"
   ]
  },
  {
   "cell_type": "code",
   "execution_count": null,
   "metadata": {},
   "outputs": [],
   "source": []
  }
 ],
 "metadata": {
  "kernelspec": {
   "display_name": "Python 3",
   "language": "python",
   "name": "python3"
  },
  "language_info": {
   "codemirror_mode": {
    "name": "ipython",
    "version": 3
   },
   "file_extension": ".py",
   "mimetype": "text/x-python",
   "name": "python",
   "nbconvert_exporter": "python",
   "pygments_lexer": "ipython3",
   "version": "3.8.3"
  }
 },
 "nbformat": 4,
 "nbformat_minor": 4
}

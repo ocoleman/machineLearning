{
 "cells": [
  {
   "cell_type": "markdown",
   "metadata": {},
   "source": [
    "# Tasks\n",
    "#### These are my solutions to the Tasks assessment. The author is Owen Coleman (G00387850@gmit.ie).\n",
    "***"
   ]
  },
  {
   "cell_type": "markdown",
   "metadata": {},
   "source": [
    "#### Task 1 - A python function that calculates and prints the square root of 2 to 100 decimal places. \n",
    "\n",
    "The method shown below is similar to Newtons Method[1], however it has been adapted for calculating the integer square root of long numbers[2]. This was done to avoid the limitations of Pythons double precision of 53 bits (16 digits) which would make displaying to 100 decimal places impossible[3]. The answer outputted is accurate relative to NASA's *The Square Root of Two to 1 Million Digits*[4].\n",
    "\n",
    "\n",
    "\n",
    "\n",
    "[1]Newton's method; https://en.wikipedia.org/wiki/Newton%27s_method\n",
    "\n",
    "[2]Hackernoon; Calculating the Square Root of a Number using the Newton-Raphson Method; https://hackernoon.com/calculating-the-square-root-of-a-number-using-the-newton-raphson-method-a-how-to-guide-yr4e32zo\n",
    "\n",
    "[3]Python3 Documentation; Floating Point Arithmetic: Issues and Limitations; https://docs.python.org/3/tutorial/floatingpoint.html\n",
    "\n",
    "[4]The Square Root of Two to 1 Million Digits; Robert Nemiroff, Jerry Bonnell; https://apod.nasa.gov/htmltest/gifcity/sqrt2.1mil\n",
    "\n",
    "***\n",
    "\n",
    "***Note:*** *Jupyter automatically outputted the result of the function when it was called, so I saw no need to include a print statement anywhere within the code.*"
   ]
  },
  {
   "cell_type": "code",
   "execution_count": 1,
   "metadata": {},
   "outputs": [],
   "source": [
    "def sqrt2():\n",
    "    x = 2*(10**200) #x is assigned the integer equivalent of 2.0 with 100 zeros after the decimal place 200000...000 (100)\n",
    "    y = (x + 1) // 2 # 2 #precision number\n",
    "    while y < x: # algorithm terminates when the y is less than x\n",
    "        x = y\n",
    "        y = (x + 2*(10**200) // x) // 2 #flooring for integer square root\n",
    "    answer = str(x) #formatting as a string\n",
    "    result = answer[:1]+'.'+answer[1:-1]+answer[-1:] #inserting decimal\n",
    "    return result"
   ]
  },
  {
   "cell_type": "markdown",
   "metadata": {},
   "source": [
    "##### Tests"
   ]
  },
  {
   "cell_type": "code",
   "execution_count": 2,
   "metadata": {},
   "outputs": [
    {
     "data": {
      "text/plain": [
       "'1.4142135623730950488016887242096980785696718753769480731766797379907324784621070388503875343276415727'"
      ]
     },
     "execution_count": 2,
     "metadata": {},
     "output_type": "execute_result"
    }
   ],
   "source": [
    "sqrt2()"
   ]
  },
  {
   "cell_type": "markdown",
   "metadata": {},
   "source": [
    "***"
   ]
  },
  {
   "cell_type": "markdown",
   "metadata": {},
   "source": [
    "#### Task 2 - The Chi-squared test for independence.\n",
    "\n",
    "The Chi-square test for independence is a statistical test that is used when we have two sets of categorical data from a specific population.[1],[2] The test determines wether the data from the two categories are independent of each other or not. When performing this test, we can expect one of two hypotheses to be correct. Either the Null Hypothesis is correct in which the variables are said to be independent of each other, or the Alternative Hypothesis, in which a relationship is said to exist between the two categories.[3]\n",
    "\n",
    "[1] Chi-squared test, https://en.wikipedia.org/wiki/Chi-squared_test\n",
    "\n",
    "[2] towards data science, Gentle Introduction to Chi-Square Test for Independence, Shinichi Okada, https://towardsdatascience.com/gentle-introduction-to-chi-square-test-for-independence-7182a7414a95#bebc\n",
    "\n",
    "[3] Statistics By Jim, How the Chi-Squared Test of Independence Works, Jim Frost, https://statisticsbyjim.com/hypothesis-testing/chi-squared-independence/"
   ]
  },
  {
   "cell_type": "code",
   "execution_count": 3,
   "metadata": {},
   "outputs": [
    {
     "name": "stdout",
     "output_type": "stream",
     "text": [
      "chi = 24.5712028585826\n",
      "p-value = 0.0004098425861096696\n"
     ]
    }
   ],
   "source": [
    "from scipy.stats import chi2_contingency\n",
    "import pandas as pd\n",
    "import numpy as np\n",
    "\n",
    "#pandas dataframe, idea adapted from [2].\n",
    "collars = pd.DataFrame(\n",
    "    [\n",
    "        [90,60,104,95],\n",
    "        [30,50,51,20],\n",
    "        [30,40,45,35]\n",
    "    ],\n",
    "    index=[\"White Collar\",\"Blue Collar\",\"No Collar\"],\n",
    "    columns=[\"A\",\"B\",\"C\",\"D\"])\n",
    "\n",
    "chi2_contingency(collars)\n",
    "chisquare=chi2_contingency(collars)[0]\n",
    "pvalue=chi2_contingency(collars)[1]\n",
    "\n",
    "print(\"chi =\",chisquare)\n",
    "print(\"p-value =\",pvalue)"
   ]
  },
  {
   "cell_type": "markdown",
   "metadata": {},
   "source": [
    "##### Analysis"
   ]
  },
  {
   "cell_type": "markdown",
   "metadata": {},
   "source": [
    "Using the chi2_contingency from the scipy.stats library, we computed a chi2 statistic of 24.57, which, when rounded gives us the targeted approximation of 24.6. This number is a significant divergence from the null hypothesis, in which we would expect a chi-squared value closer to 0.[4] We also received a P value of 0.000409. At a level of signifcance of 0.05 we can safely reject the null hypothesis and assume the above catagorical data is not independent. We can verify the chi2 results manually using the method below.\n",
    "\n",
    "Getting expected values manually as in example shown below.[5]\n",
    "\n",
    "\n",
    "\\begin{equation}\n",
    "{\\displaystyle 150\\times {\\frac {349}{650}}\\approx 80.54} \\\\\n",
    "\\end{equation}\n",
    "<div align=\"center\"><i>(column total / grand total) x (row total)<i></div>\n",
    "<br> \n",
    "The formula for calculation Chi-square is as follows:\n",
    "    \n",
    "\\begin{equation}\n",
    "\\chi^2=\\frac{(observed-expected)^2}{expected} \\\\\n",
    "\\end{equation}\n",
    "    \n",
    "    \n",
    "[4]Statistics By Jim, How the Chi-Squared Test of Independence Works, Jim Frost, https://statisticsbyjim.com/hypothesis-testing/chi-squared-independence/\n",
    "    \n",
    "[5]Example chi-squared test for categorical data, https://en.wikipedia.org/wiki/Chi-squared_test#Example_chi-squared_test_for_categorical_data"
   ]
  },
  {
   "cell_type": "code",
   "execution_count": 4,
   "metadata": {
    "scrolled": true
   },
   "outputs": [
    {
     "name": "stdout",
     "output_type": "stream",
     "text": [
      "Manual chi value = 24.56974549145303\n"
     ]
    }
   ],
   "source": [
    "#Manual calcuation of chi-square.\n",
    "ans =(((90 - 80.54)**2) / 80.54) + (((60 - 80.54)**2) / 80.54) + (((104 - 107.38)**2) / 107.38)  + (((95 - 80.54)**2) / 80.54)  + (((30 - 34.85)**2) / 34.85) + (((50 - 34.85)**2) / 34.85) + (((51 - 46.46)**2) / 46.46)  + (((20 - 34.85)**2) / 34.85)  + (((30 - 34.62)**2) / 34.62) + (((40 - 34.62)**2) / 34.62)  + (((45 - 46.15)**2) / 46.15)  + (((35 - 34.62)**2) / 34.62)\n",
    "print(\"Manual chi value =\", ans)"
   ]
  },
  {
   "cell_type": "markdown",
   "metadata": {},
   "source": [
    "***"
   ]
  },
  {
   "cell_type": "markdown",
   "metadata": {},
   "source": [
    "#### Task 3 - Standard Deviation: STDEV.P vs STDEV.S\n",
    "<br>\n",
    "The main difference between the two excel functions is that STDEV.P assumes the data it is passed represents an entire population, whereas the STDEV.S function expects to be given a sample of a population.[1] Unless you have a whole population as your data, using STDEV.S will generally provide a more accurate estimate of the standard deviation. This is because the mean of a sample is often not representative of the mean of an entire population. STDEV.S addresses this bias through employment of Bessel's correction (the len(x)-1 observed in the numpy calculation below).[2] In practice, this adjustment slightly enlarges the value we get for STDEV.S which it turns out is actually a fairly accurate estimate for the standard deviation of a total population.\n",
    "<br><br>\n",
    "The below code segment demonstrates the better accuracy of the STDEV.S function over STDEV.P. The data simulated is based on the real average height of US males and the accompanying standard deviation.[3] *x* is assigned an array of 100 height values in a normal distribution centered at 178cm (1.78), with a standard distribution of 8cm (0.08). A STDEV.P and STDEV.S estimation of the standard deviation are then gotten as *p* and *s* respectively. This process is then repeated 1000 times, at each iteration *p* and *s* are compared with the one closer to the actual standard deviation receiving a point. The final output shows that the STDEV.S calculation consistently scores higher in estimating the standard deviation over the 1000 iterations.\n",
    "\n",
    "[1]Excel Tip, How To Use Excel STDEV.P Function, https://www.exceltip.com/statistical-formulas/how-to-use-excel-stdev-p-function.html\n",
    "\n",
    "[2]Statistics How To, Bessel’s Correction: Why Use N-1 For Variance/Standard Deviation?, https://www.statisticshowto.com/bessels-correction/\n",
    "\n",
    "[3]danielmiessler.com, Standard Deviations Explained, Daniel Miessler https://danielmiessler.com/blog/standard-deviations-explained/"
   ]
  },
  {
   "cell_type": "code",
   "execution_count": 5,
   "metadata": {
    "scrolled": false
   },
   "outputs": [
    {
     "name": "stdout",
     "output_type": "stream",
     "text": [
      "STDEV.P score: 488  STDEV.S score: 512\n"
     ]
    }
   ],
   "source": [
    "import numpy as np\n",
    "import matplotlib.pyplot as plt\n",
    "import seaborn as sns\n",
    "\n",
    "#the real stdev of 8cm.\n",
    "realstdev = 0.08\n",
    "# \"score\" value variables.\n",
    "p_score = 0\n",
    "s_score = 0\n",
    "\n",
    "#generates 100 height values as x,values for STDEV.P and STDEV.S. Does this 1000 times.\n",
    "for i in range(1000):\n",
    "    x = np.random.normal(1.78,realstdev,100) #height data simulation.\n",
    "    p = np.sqrt(np.sum((x - np.mean(x))**2)/len(x)) #STDEV.P calculation.\n",
    "    s = np.sqrt(np.sum((x - np.mean(x))**2)/(len(x)-1)) # STDEV.S calculation.\n",
    "    \n",
    "    #values from both calculation methods are compared, with the one closest to the real value being awarded a point.\n",
    "    if abs((realstdev - p)) > abs((realstdev - s)):\n",
    "        s_score += 1\n",
    "    else:\n",
    "        p_score += 1\n",
    "\n",
    "print(\"STDEV.P score:\", p_score, \" STDEV.S score:\", s_score)\n"
   ]
  },
  {
   "cell_type": "markdown",
   "metadata": {},
   "source": [
    "***"
   ]
  },
  {
   "cell_type": "markdown",
   "metadata": {},
   "source": [
    "#### Task 4 - Scikit-learn K-means\n",
    "<br>\n",
    "The K-means clustering algorithm is a simple unsupervised machine learning algorithm.[1] It is used to group data points together based on underlying similarities without any external knowledge of the given dataset. To achieve  this, the algorithm attempts to organise data within a number of groups that all share similar characteristics. These groups are known as clusters and the number of clusters present in the dataset is referred to as K.[2] For each of these clusters, the goal of the algorithm is to identify the most accurate central point from which to group data around.\n",
    "<br><br>\n",
    "For our example, the Iris dataset, we use a K value of 3 which best suits the 3 species of flower that make up the basis of the data. \n",
    "<br><br>\n",
    "The algorithm starts off by selecting 3 random datapoints as the initial clusters. From here, the algorithm measures the Euclidean distance between each of the datapoints and these initial clusters and each datapoint is assigned to its closest cluster. Next, a new center is created by taking the mean value of all the datapoints in each of the 3 clusters. The whole process is then repeated, with datapoints swapping between clusters as the centroids move. The process only ceases once the centroids have stabilized and no longer shift or when the specified number of iterations has been reached.[1]\n",
    "<br><br>\n",
    "The code below first extracts the raw data from the iris dataset and plots the real values of Sepal Length and Sepal Width as a demonstration. The data is then passed through the algorithm and the final position of the centroid are displayed. Finally, the predicted data is plotted against the actual data showing the similarities and differences. As we can observe the K-means clustering algorithm did an impressive job at identifying the different species based on the raw data alone, even identifying some of the extreme outliers interspread in the data. Finally looking at the Scikit classification report, we can see that 91% of the flowers were classified accurately.[3] As this algorithm performs well regardless of scale, it can be expected that if it were given more Iris data it could likely predict their species with a similar degree of accuracy.\n",
    "\n",
    "\n",
    "[1] scikit-learn, Clustering, K-Means, https://scikit-learn.org/stable/modules/clustering.html#k-means\n",
    "\n",
    "[2] towardsdatascience, Understanding K-means Clustering in Machine Learning, Dr. Michael J. Garbade, https://towardsdatascience.com/understanding-k-means-clustering-in-machine-learning-6a6e67336aa1\n",
    "\n",
    "[3] Medium, PREDICTING IRIS FLOWER SPECIES WITH K-MEANS CLUSTERING IN PYTHON, Belen Sanchez, https://medium.com/@belen.sanchez27/predicting-iris-flower-species-with-k-means-clustering-in-python-f6e46806aaee\n",
    "\n",
    "[4] Muthukrishnan, K-Means on Iris Dataset, https://muthu.co/k-means-on-iris-dataset/"
   ]
  },
  {
   "cell_type": "code",
   "execution_count": 6,
   "metadata": {
    "scrolled": false
   },
   "outputs": [],
   "source": [
    "import numpy as np\n",
    "import sklearn.cluster as skcl # Machine learning - KMeans.\n",
    "import matplotlib.pyplot as plt\n",
    "import seaborn as sns\n",
    "import pandas as pd\n",
    "\n",
    "#Reading in the dataset and making the species column numerical\n",
    "df = pd.read_csv(\"https://raw.githubusercontent.com/uiuc-cse/data-fa14/gh-pages/data/iris.csv\")\n",
    "df['species'] = pd.Categorical(df[\"species\"])\n",
    "df['species'] = df[\"species\"].cat.codes\n",
    "\n",
    "#extract raw values from dataset\n",
    "x = df.values[:, 0:4]\n",
    "# 'y' value referres to the species column\n",
    "y = df.values[:,4]"
   ]
  },
  {
   "cell_type": "code",
   "execution_count": 7,
   "metadata": {
    "scrolled": true
   },
   "outputs": [
    {
     "data": {
      "text/plain": [
       "Text(0, 0.5, 'Sepal Width')"
      ]
     },
     "execution_count": 7,
     "metadata": {},
     "output_type": "execute_result"
    },
    {
     "data": {
      "image/png": "[encoded data removed]",
      "text/plain": [
       "<Figure size 432x288 with 1 Axes>"
      ]
     },
     "metadata": {
      "needs_background": "light"
     },
     "output_type": "display_data"
    }
   ],
   "source": [
    "#Plotting real values of Sepal length vs width with a hue of species\n",
    "plt.scatter(x[:,0], x[:,1], c=y)\n",
    "plt.xlabel('Sepal Length')\n",
    "plt.ylabel('Sepal Width')"
   ]
  },
  {
   "cell_type": "code",
   "execution_count": 8,
   "metadata": {},
   "outputs": [],
   "source": [
    "#creating KMeans object with 3 clusters (for 3 species), 300 max iterations.\n",
    "kmeans = skcl.KMeans(n_clusters=3, max_iter=300)\n",
    "# Computing the data\n",
    "kmeans = kmeans.fit(x)\n",
    "#Getting the labels of the cluster datapoints\n",
    "labels = kmeans.labels_\n",
    "#Predict the closest cluster each sample in x belongs to\n",
    "prediction = kmeans.predict(x)\n",
    "# The centres of clusters.\n",
    "center = kmeans.cluster_centers_"
   ]
  },
  {
   "cell_type": "code",
   "execution_count": 9,
   "metadata": {},
   "outputs": [
    {
     "data": {
      "text/plain": [
       "Text(0, 0.5, 'Sepal Width')"
      ]
     },
     "execution_count": 9,
     "metadata": {},
     "output_type": "execute_result"
    },
    {
     "data": {
      "image/png": "[encoded data removed]",
      "text/plain": [
       "<Figure size 432x288 with 1 Axes>"
      ]
     },
     "metadata": {
      "needs_background": "light"
     },
     "output_type": "display_data"
    }
   ],
   "source": [
    "#Identified center of each cluster (in black)\n",
    "plt.plot(x[prediction == 0][:,0], x[prediction == 0][:,1], 'b.')\n",
    "plt.plot(x[prediction == 1][:,0], x[prediction == 1][:,1], 'r.')\n",
    "plt.plot(x[prediction == 2][:,0], x[prediction == 2][:,1], 'g.')\n",
    "plt.plot(center[:,0], center[:,1], 'ko')\n",
    "plt.xlabel('Sepal Length')\n",
    "plt.ylabel('Sepal Width')"
   ]
  },
  {
   "cell_type": "code",
   "execution_count": 10,
   "metadata": {
    "scrolled": false
   },
   "outputs": [
    {
     "data": {
      "text/plain": [
       "Text(0.5, 1.0, 'Predicted')"
      ]
     },
     "execution_count": 10,
     "metadata": {},
     "output_type": "execute_result"
    },
    {
     "data": {
      "image/png": "[encoded data removed]",
      "text/plain": [
       "<Figure size 864x432 with 2 Axes>"
      ]
     },
     "metadata": {
      "needs_background": "light"
     },
     "output_type": "display_data"
    }
   ],
   "source": [
    "#Comparison\n",
    "#Code adapted from [3]\n",
    "fig, axes = plt.subplots(1, 2, figsize=(12,6))\n",
    "axes[0].scatter(x[:,0], x[:,1], c=y,)\n",
    "axes[0].set_xlabel('Sepal length')\n",
    "axes[0].set_ylabel('Sepal width')\n",
    "axes[0].set_title('Actual')\n",
    "axes[1].scatter(x[:,0], x[:,1], c=prediction, cmap='brg')\n",
    "axes[1].set_xlabel('Sepal length')\n",
    "axes[1].set_ylabel('Sepal width')\n",
    "axes[1].set_title('Predicted')"
   ]
  },
  {
   "cell_type": "markdown",
   "metadata": {},
   "source": [
    "#### Classification Report"
   ]
  },
  {
   "cell_type": "code",
   "execution_count": 11,
   "metadata": {
    "scrolled": false
   },
   "outputs": [
    {
     "name": "stdout",
     "output_type": "stream",
     "text": [
      "                 precision    recall  f1-score   support\n",
      "\n",
      "Iris_versicolor       0.00      0.00      0.00        50\n",
      "    Iris_setosa       0.00      0.00      0.00        50\n",
      " Iris_virginica       0.95      0.72      0.82        50\n",
      "\n",
      "       accuracy                           0.24       150\n",
      "      macro avg       0.32      0.24      0.27       150\n",
      "   weighted avg       0.32      0.24      0.27       150\n",
      "\n"
     ]
    }
   ],
   "source": [
    "#Code adapted from [4]\n",
    "\n",
    "#Scikit classification report from the sklearn.metrics module. \n",
    "#Note: data sometimes appears inaccurate due to flipping of cluster labels.\n",
    "from sklearn.metrics import classification_report\n",
    "\n",
    "target_names = ['Iris_versicolor', 'Iris_setosa', 'Iris_virginica']\n",
    "\n",
    "print(classification_report(df['species'],prediction,target_names=target_names))"
   ]
  },
  {
   "cell_type": "markdown",
   "metadata": {},
   "source": [
    "***"
   ]
  },
  {
   "cell_type": "markdown",
   "metadata": {},
   "source": [
    "#### Task 4 attempt 2 - k Nearest Neighbours clustering\n",
    "<br>\n",
    "The K-Nearest neighbors algorithm is a simple algorithm that is used when trying to classify data.[1] This algorithm is best suited to data that has discrete labels by which it can be categorised.[2] This makes K-Nearest neighbors a supervised machine learning algorithm, one that takes the data associated with a label and uses it to predict an appropriate output when given data with no label. Let's assume we have a new datapoint which we want to classify, the algorithm first measures the Euclidean distance between the point and its 'K-Nearest Neighbours', the K here refers to the number of neighbors that are inspected. The algorithm then chooses a label for this new point based on the majority of neighbours closest to it. Note that the choice for K can have an effect on the classification of data, with lower values being more prone to the effects of outliers.[2] In the example below, We load the numeric columns of the Iris Dataset into the variable inputs, while we place the species category in a variable output. We then initialize a K-Nearest neighbors object and fit the input and output values to this model. When predicting the category of the training data we can see that the algorithm correctly identifies 145/150(96%) of the datapoints it was trained on. To simulate how the algorithm would handle being given an unknown set of Iris flowers we use the sklearn.model_selection.train_test_split function to randomize and split the data into 4 subarrays, 2 for training and 2 for predicting. The results show a high accuracy of prediction at ~48/50 flowers being identified correctly. \n",
    "\n",
    "\n",
    "[1] scikit-learn Documentation, sklearn.neighbors.KNeighborsClassifier, https://scikit-learn.org/stable/modules/generated/sklearn.neighbors.KNeighborsClassifier.html\n",
    "\n",
    "[2] scikit-learn Documentation, Nearest Neighbors, https://scikit-learn.org/stable/modules/neighbors.html\n",
    "\n",
    "[3] scikit-learn Documentation, sklearn.model_selection.train_test_split, https://scikit-learn.org/stable/modules/generated/sklearn.model_selection.train_test_split.html\n",
    "\n",
    "[4] GitHub, KNN with Iris, Ian McLoughlin, https://github.com/ianmcloughlin/jupyter-teaching-notebooks/blob/master/knn-iris.ipynb"
   ]
  },
  {
   "cell_type": "code",
   "execution_count": 12,
   "metadata": {},
   "outputs": [
    {
     "data": {
      "text/plain": [
       "KNeighborsClassifier()"
      ]
     },
     "execution_count": 12,
     "metadata": {},
     "output_type": "execute_result"
    }
   ],
   "source": [
    "import sklearn.neighbors as nei\n",
    "from sklearn.model_selection import train_test_split\n",
    "import pandas as pd\n",
    "\n",
    "# Load iris data set\n",
    "df = pd.read_csv(\"https://github.com/ianmcloughlin/datasets/raw/master/iris.csv\")\n",
    "\n",
    "#subselections of the dataframe, numeric and categorical\n",
    "inputs = df[['sepal_length', 'sepal_width', 'petal_length', 'petal_width']]\n",
    "outputs = df['class']\n",
    "\n",
    "#returns back a KNN object, selects 5 nearest neighbors\n",
    "knn = nei.KNeighborsClassifier(n_neighbors=5)\n",
    "\n",
    "#Training the model on the real values\n",
    "knn.fit(inputs, outputs)"
   ]
  },
  {
   "cell_type": "markdown",
   "metadata": {},
   "source": [
    "#### Accuracy Test"
   ]
  },
  {
   "cell_type": "code",
   "execution_count": 13,
   "metadata": {},
   "outputs": [
    {
     "data": {
      "text/plain": [
       "array(['setosa', 'versicolor', 'virginica'], dtype=object)"
      ]
     },
     "execution_count": 13,
     "metadata": {},
     "output_type": "execute_result"
    }
   ],
   "source": [
    "#Predict species of 3 chosen flower measurements.[Setosa, Versicolor, Virginica]\n",
    "knn.predict([[5.4,3.9,1.7,0.4], [5.7, 2.8, 4.5, 1.3], [6.9, 3.2, 5.7, 2.3]])"
   ]
  },
  {
   "cell_type": "code",
   "execution_count": 14,
   "metadata": {},
   "outputs": [
    {
     "name": "stdout",
     "output_type": "stream",
     "text": [
      "Accuracy = 145 / 150\n"
     ]
    }
   ],
   "source": [
    "#Accuracy when predicting entire base dataset.\n",
    "print(\"Accuracy =\",(knn.predict(inputs) == outputs).sum(),\"/ 150\")"
   ]
  },
  {
   "cell_type": "markdown",
   "metadata": {},
   "source": [
    "#### Simulate"
   ]
  },
  {
   "cell_type": "code",
   "execution_count": 15,
   "metadata": {},
   "outputs": [
    {
     "name": "stdout",
     "output_type": "stream",
     "text": [
      "Accuracy = 48 / 50\n"
     ]
    }
   ],
   "source": [
    "#Code adapted from [3][4]\n",
    "#Splits the data into randomized subsets, 100 inputs, 50 inputs, 100 outputs, 50 outputs\n",
    "x_train, x_test, y_train, y_test = train_test_split( inputs, outputs, test_size=0.33)\n",
    "\n",
    "#new knn object\n",
    "knn2 = nei.KNeighborsClassifier(n_neighbors=5)\n",
    "\n",
    "#Fitting the 100 random inputs and 100 random outputs\n",
    "knn2.fit(x_train, y_train)\n",
    "\n",
    "#Asking the algorithm to predict the previously unseen 50 inputs and outputs. \n",
    "print(\"Accuracy =\",(knn2.predict(x_test) == y_test).sum(),\"/ 50\")"
   ]
  },
  {
   "cell_type": "markdown",
   "metadata": {},
   "source": [
    "# End"
   ]
  }
 ],
 "metadata": {
  "kernelspec": {
   "display_name": "Python 3",
   "language": "python",
   "name": "python3"
  },
  "language_info": {
   "codemirror_mode": {
    "name": "ipython",
    "version": 3
   },
   "file_extension": ".py",
   "mimetype": "text/x-python",
   "name": "python",
   "nbconvert_exporter": "python",
   "pygments_lexer": "ipython3",
   "version": "3.8.3"
  }
 },
 "nbformat": 4,
 "nbformat_minor": 4
}
